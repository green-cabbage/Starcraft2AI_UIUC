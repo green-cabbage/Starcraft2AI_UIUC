{
 "cells": [
  {
   "cell_type": "code",
   "execution_count": 1,
   "metadata": {},
   "outputs": [
    {
     "name": "stderr",
     "output_type": "stream",
     "text": [
      "C:\\Users\\hyeon\\Anaconda3\\lib\\site-packages\\h5py\\__init__.py:34: FutureWarning: Conversion of the second argument of issubdtype from `float` to `np.floating` is deprecated. In future, it will be treated as `np.float64 == np.dtype(float).type`.\n",
      "  from ._conv import register_converters as _register_converters\n"
     ]
    }
   ],
   "source": [
    "import tensorflow as tf\n",
    "import numpy as np\n",
    "import random"
   ]
  },
  {
   "cell_type": "code",
   "execution_count": null,
   "metadata": {},
   "outputs": [],
   "source": [
    "x = tf.constant(2)\n",
    "y = tf.constant(6)\n",
    "A =  tf.constant(10.0, shape=[2, 3])"
   ]
  },
  {
   "cell_type": "code",
   "execution_count": null,
   "metadata": {},
   "outputs": [],
   "source": [
    "sess =  tf.Session()\n",
    "product = sess.run([x*y])\n",
    "print(product)"
   ]
  },
  {
   "cell_type": "code",
   "execution_count": null,
   "metadata": {},
   "outputs": [],
   "source": [
    "sess.run(A)"
   ]
  },
  {
   "cell_type": "code",
   "execution_count": null,
   "metadata": {},
   "outputs": [],
   "source": [
    "B = tf.constant(2.0, shape = [3,2])\n",
    "P = tf.matmul(A,B)"
   ]
  },
  {
   "cell_type": "code",
   "execution_count": null,
   "metadata": {},
   "outputs": [],
   "source": [
    "sess.run(P)"
   ]
  },
  {
   "cell_type": "code",
   "execution_count": null,
   "metadata": {},
   "outputs": [],
   "source": [
    "input = tf.placeholder(tf.float32, shape=[2,1])\n",
    "output =tf.layers.dense( input ,units=5, activation = tf.nn.relu)"
   ]
  },
  {
   "cell_type": "code",
   "execution_count": null,
   "metadata": {},
   "outputs": [],
   "source": [
    "X = np.array([[1],[1]])\n",
    "# print(X.shape)\n",
    "dict = {input: X}\n",
    "sess.run(tf.global_variables_initializer())\n",
    "sess.run(output,feed_dict =dict )"
   ]
  },
  {
   "cell_type": "markdown",
   "metadata": {},
   "source": [
    "Now we want to create an actual Neural Network. Let's try to do a simple problem: Cartepole. "
   ]
  },
  {
   "cell_type": "markdown",
   "metadata": {},
   "source": [
    "Cartpole is a simple environment "
   ]
  },
  {
   "cell_type": "code",
   "execution_count": null,
   "metadata": {},
   "outputs": [],
   "source": []
  },
  {
   "cell_type": "markdown",
   "metadata": {},
   "source": [
    "For simplicity, we need to create a neural network class. For our network, we will be using the activation function relu, which is a good general to-go activation function to learn more about activation function, please read "
   ]
  },
  {
   "cell_type": "code",
   "execution_count": 33,
   "metadata": {},
   "outputs": [],
   "source": [
    "class NN_simple:\n",
    "    def __init__(self, learning_rate):\n",
    "        self.input_= tf.placeholder(tf.float32, shape=[None,1])\n",
    "        self.target_value_= tf.placeholder(tf.float32, shape=[None,1])\n",
    "        self.hiddenlayer = tf.layers.dense(self.input_,\n",
    "                                        units = 10,\n",
    "                                        activation = tf.nn.relu)\n",
    "        self.output=tf.layers.dense(self.hiddenlayer,\n",
    "                                        units = 1,\n",
    "                                        activation = None)\n",
    "        self.cost = (self.output-self.target_value_)**2\n",
    "        self.trainer = tf.train.AdamOptimizer(learning_rate).minimize(self.cost)\n",
    "        \n",
    "        "
   ]
  },
  {
   "cell_type": "markdown",
   "metadata": {},
   "source": [
    "So let's test our NN with an arbitrary function: x^3"
   ]
  },
  {
   "cell_type": "code",
   "execution_count": 41,
   "metadata": {},
   "outputs": [
    {
     "name": "stdout",
     "output_type": "stream",
     "text": [
      "cost:  [[214.74735928]]\n",
      "cost:  [[713.20009041]]\n",
      "cost:  [[7.48638821]]\n",
      "cost:  [[631.51486206]]\n",
      "cost:  [[1527.85713196]]\n",
      "cost:  [[5380.59875488]]\n",
      "cost:  [[1294.66610718]]\n",
      "cost:  [[1591.15600586]]\n",
      "cost:  [[652.45391846]]\n",
      "cost:  [[257.83758545]]\n",
      "cost:  [[1546.7298584]]\n",
      "cost:  [[8484.1809082]]\n",
      "cost:  [[6812.15820312]]\n",
      "cost:  [[829.81091309]]\n",
      "cost:  [[2284.9230957]]\n"
     ]
    }
   ],
   "source": [
    "def f(x):\n",
    "    return x**3\n",
    "\n",
    "Network =  NN_simple(0.005)\n",
    "sess = tf.Session()\n",
    "sess.run(tf.global_variables_initializer())\n",
    "\n",
    "for i in range(1500):\n",
    "    x= np.random.randint(30, size =(1,1))\n",
    "    input_dict = {Network.input_ :x, Network.target_value_: f(x) }\n",
    "    predicted_value = sess.run(Network.output,  feed_dict= input_dict)\n",
    "    if i % 100 == 0 :\n",
    "        print(\"cost: \",abs(predicted_value-f(x)))\n",
    "    sess.run(Network.trainer , feed_dict=input_dict)\n",
    "    "
   ]
  },
  {
   "cell_type": "markdown",
   "metadata": {},
   "source": []
  },
  {
   "cell_type": "markdown",
   "metadata": {},
   "source": [
    "That did not work well, so let's upgrade our neural network with more layers and nodes per layer"
   ]
  },
  {
   "cell_type": "code",
   "execution_count": 39,
   "metadata": {},
   "outputs": [],
   "source": [
    "\n",
    "class NN:\n",
    "    def __init__(self, learning_rate):\n",
    "        self.input_= tf.placeholder(tf.float32, shape=[None,1])\n",
    "        self.target_value_= tf.placeholder(tf.float32, shape=[None,1])\n",
    "        self.hiddenlayer1 = tf.layers.dense(self.input_,\n",
    "                                        units = 500,\n",
    "                                        activation = tf.nn.relu)\n",
    "        self.hiddenlayer2 =tf.layers.dense(self.hiddenlayer1,\n",
    "                                        units = 500,\n",
    "                                        activation = tf.nn.relu)\n",
    "        self.hiddenlayer3 =tf.layers.dense(self.hiddenlayer2,\n",
    "                                        units = 500,\n",
    "                                        activation = tf.nn.relu)\n",
    "        self.hiddenlayer4 =tf.layers.dense(self.hiddenlayer3,\n",
    "                                        units = 500,\n",
    "                                        activation = tf.nn.relu)\n",
    "        self.output=tf.layers.dense(self.hiddenlayer4,\n",
    "                                        units = 1,\n",
    "                                        activation = None)\n",
    "        self.cost = (self.output-self.target_value_)**2\n",
    "        self.trainer = tf.train.AdamOptimizer(learning_rate).minimize(self.cost)\n",
    "        \n",
    "        "
   ]
  },
  {
   "cell_type": "markdown",
   "metadata": {},
   "source": [
    "While training, we also pack in a lot of values at once to give more \"breath\" to the AI"
   ]
  },
  {
   "cell_type": "code",
   "execution_count": 49,
   "metadata": {},
   "outputs": [
    {
     "name": "stdout",
     "output_type": "stream",
     "text": [
      "cost:  24388.91251217574\n",
      "cost:  8966.0615234375\n",
      "cost:  328.296875\n",
      "cost:  323.298828125\n",
      "cost:  227.017578125\n",
      "cost:  220.04296875\n",
      "cost:  259.9453125\n",
      "cost:  151.24609375\n",
      "cost:  420.86328125\n",
      "cost:  355.412109375\n",
      "cost:  1457.296875\n",
      "cost:  237.857421875\n",
      "cost:  220.494140625\n",
      "cost:  374.818359375\n",
      "cost:  270.06640625\n"
     ]
    }
   ],
   "source": [
    "Network =  NN(0.005)\n",
    "sess = tf.Session()\n",
    "sess.run(tf.global_variables_initializer())\n",
    "\n",
    "for i in range(1500):\n",
    "    x= np.random.randint(30, size =(500,1))\n",
    "    input_dict = {Network.input_ :x, Network.target_value_: f(x) }\n",
    "    predicted_value = sess.run(Network.output,  feed_dict= input_dict)\n",
    "    if i % 100 == 0 :\n",
    "        print(\"cost: \",np.max(abs(predicted_value-f(x))))\n",
    "    sess.run(Network.trainer , feed_dict=input_dict)\n",
    "    "
   ]
  },
  {
   "cell_type": "code",
   "execution_count": 48,
   "metadata": {},
   "outputs": [
    {
     "name": "stdout",
     "output_type": "stream",
     "text": [
      "Predicted Value:  [[1342.039]]\n",
      "Real Value:  [[343]]\n"
     ]
    }
   ],
   "source": [
    "x= np.random.randint(30, size =(1,1))\n",
    "input_dict = {Network.input_ :x, Network.target_value_: f(x) }\n",
    "value = sess.run(Network.output,  feed_dict= input_dict)\n",
    "print(\"Predicted Value: \", value)\n",
    "print(\"Real Value: \", f(x))"
   ]
  },
  {
   "cell_type": "markdown",
   "metadata": {},
   "source": [
    "Now for the fun of it, let's give it a very complicated function"
   ]
  },
  {
   "cell_type": "code",
   "execution_count": 23,
   "metadata": {},
   "outputs": [
    {
     "name": "stdout",
     "output_type": "stream",
     "text": [
      "cost:  3049547.500379758\n",
      "cost:  1551860.5407250822\n",
      "cost:  1514524.8682766259\n",
      "cost:  856644.9183521271\n",
      "cost:  99821.78736758232\n",
      "cost:  46458.209939956665\n",
      "cost:  23223.091412067413\n",
      "cost:  19815.49182510376\n",
      "cost:  14890.196051836014\n",
      "cost:  14379.89580154419\n",
      "cost:  21885.590080976486\n",
      "cost:  45154.62651860714\n",
      "cost:  6673.230255126953\n",
      "cost:  15703.3932056427\n",
      "cost:  27773.220809221268\n"
     ]
    }
   ],
   "source": []
  },
  {
   "cell_type": "code",
   "execution_count": 31,
   "metadata": {},
   "outputs": [
    {
     "name": "stdout",
     "output_type": "stream",
     "text": [
      "Predicted Value:  [[5816.308]]\n",
      "Real Value:  [[5832]]\n"
     ]
    }
   ],
   "source": []
  },
  {
   "cell_type": "code",
   "execution_count": null,
   "metadata": {},
   "outputs": [],
   "source": []
  }
 ],
 "metadata": {
  "kernelspec": {
   "display_name": "Python 3",
   "language": "python",
   "name": "python3"
  },
  "language_info": {
   "codemirror_mode": {
    "name": "ipython",
    "version": 3
   },
   "file_extension": ".py",
   "mimetype": "text/x-python",
   "name": "python",
   "nbconvert_exporter": "python",
   "pygments_lexer": "ipython3",
   "version": "3.6.3"
  }
 },
 "nbformat": 4,
 "nbformat_minor": 2
}
