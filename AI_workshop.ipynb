{
 "cells": [
  {
   "cell_type": "markdown",
   "metadata": {},
   "source": [
    "to install tensorflow, do:\n",
    "\"pip install tensorflow==1.13.0rc2\"\n",
    "on your local terminal "
   ]
  },
  {
   "cell_type": "code",
   "execution_count": 1,
   "metadata": {},
   "outputs": [
    {
     "name": "stderr",
     "output_type": "stream",
     "text": [
      "C:\\Users\\hyeon\\Anaconda3\\lib\\site-packages\\h5py\\__init__.py:34: FutureWarning: Conversion of the second argument of issubdtype from `float` to `np.floating` is deprecated. In future, it will be treated as `np.float64 == np.dtype(float).type`.\n",
      "  from ._conv import register_converters as _register_converters\n"
     ]
    }
   ],
   "source": [
    "import tensorflow as tf\n",
    "import numpy as np"
   ]
  },
  {
   "cell_type": "code",
   "execution_count": 2,
   "metadata": {},
   "outputs": [],
   "source": [
    "x = tf.constant(2)\n",
    "y = tf.constant(6)\n",
    "A =  tf.constant(10.0, shape=[2, 3])"
   ]
  },
  {
   "cell_type": "markdown",
   "metadata": {},
   "source": [
    "Now to obtain the values from tensorflow, you have to run the session"
   ]
  },
  {
   "cell_type": "code",
   "execution_count": 5,
   "metadata": {},
   "outputs": [
    {
     "data": {
      "text/plain": [
       "[12]"
      ]
     },
     "execution_count": 5,
     "metadata": {},
     "output_type": "execute_result"
    }
   ],
   "source": [
    "sess =  tf.Session()\n",
    "sess.run([x*y])"
   ]
  },
  {
   "cell_type": "code",
   "execution_count": 4,
   "metadata": {},
   "outputs": [
    {
     "data": {
      "text/plain": [
       "array([[10., 10., 10.],\n",
       "       [10., 10., 10.]], dtype=float32)"
      ]
     },
     "execution_count": 4,
     "metadata": {},
     "output_type": "execute_result"
    }
   ],
   "source": [
    "sess.run(A)"
   ]
  },
  {
   "cell_type": "code",
   "execution_count": 6,
   "metadata": {},
   "outputs": [],
   "source": [
    "B = tf.constant(2.0, shape = [3,2])\n",
    "P = tf.matmul(A,B)"
   ]
  },
  {
   "cell_type": "code",
   "execution_count": 7,
   "metadata": {},
   "outputs": [
    {
     "data": {
      "text/plain": [
       "array([[60., 60.],\n",
       "       [60., 60.]], dtype=float32)"
      ]
     },
     "execution_count": 7,
     "metadata": {},
     "output_type": "execute_result"
    }
   ],
   "source": [
    "sess.run(P)"
   ]
  },
  {
   "cell_type": "code",
   "execution_count": 14,
   "metadata": {},
   "outputs": [],
   "source": [
    "thing = tf.placeholder(tf.float32, shape=[2,1])\n",
    "hiddenlayer =tf.layers.dense(inputs=thing ,units=5, activation = tf.nn.relu)\n",
    "output =tf.layers.dense(inputs=hiddenlayer ,units=1, activation = None)"
   ]
  },
  {
   "cell_type": "code",
   "execution_count": 17,
   "metadata": {},
   "outputs": [
    {
     "data": {
      "text/plain": [
       "array([[-0.72190046],\n",
       "       [-0.72190046]], dtype=float32)"
      ]
     },
     "execution_count": 17,
     "metadata": {},
     "output_type": "execute_result"
    }
   ],
   "source": [
    "X = np.array([[1],[1]])\n",
    "# print(X.shape)\n",
    "input_dict = {thing: X}\n",
    "sess.run(tf.global_variables_initializer())\n",
    "sess.run(output,feed_dict =input_dict )"
   ]
  },
  {
   "cell_type": "markdown",
   "metadata": {},
   "source": [
    "Now let's make the neural network learn."
   ]
  },
  {
   "cell_type": "markdown",
   "metadata": {},
   "source": [
    "To make a neural network learn, we are going to make a decent network first. For our network, we will be using the activation function relu, which is a good general to-go activation function to learn more about activation function, please read the wikipedia article on activation functions"
   ]
  },
  {
   "cell_type": "code",
   "execution_count": 26,
   "metadata": {},
   "outputs": [],
   "source": [
    "learning_rate=0.005\n",
    "input_= tf.placeholder(tf.float32, shape=[None,1])\n",
    "target_value_= tf.placeholder(tf.float32, shape=[None,1])\n",
    "hiddenlayer = tf.layers.dense(input_,\n",
    "                                units = 10,\n",
    "                                activation = tf.nn.relu)\n",
    "output=tf.layers.dense(hiddenlayer,\n",
    "                                units = 1,\n",
    "                                activation = None)\n",
    "loss = (output-target_value_)**2\n",
    "trainer = tf.train.AdamOptimizer(learning_rate).minimize(loss)\n",
    "        \n",
    "        "
   ]
  },
  {
   "cell_type": "markdown",
   "metadata": {},
   "source": [
    "So let's test our NN with an arbitrary function: x^3"
   ]
  },
  {
   "cell_type": "code",
   "execution_count": 27,
   "metadata": {},
   "outputs": [
    {
     "name": "stdout",
     "output_type": "stream",
     "text": [
      "cost:  [[5838.60300541]]\n",
      "cost:  [[122.77350044]]\n",
      "cost:  [[10620.50902748]]\n",
      "cost:  [[21867.8002243]]\n",
      "cost:  [[662.93328857]]\n",
      "cost:  [[15.85521317]]\n",
      "cost:  [[28.88982773]]\n",
      "cost:  [[53.68497849]]\n",
      "cost:  [[70.81549072]]\n",
      "cost:  [[35.85035324]]\n",
      "cost:  [[9738.16760254]]\n",
      "cost:  [[165.46794128]]\n",
      "cost:  [[198.04376221]]\n",
      "cost:  [[64.63446045]]\n",
      "cost:  [[8877.07800293]]\n"
     ]
    }
   ],
   "source": [
    "def f(x):\n",
    "    return x**3\n",
    "\n",
    "sess = tf.Session()\n",
    "sess.run(tf.global_variables_initializer())\n",
    "\n",
    "for i in range(1500):\n",
    "    x= np.random.randint(30, size =(1,1))\n",
    "    input_dict = {input_ :x, target_value_: f(x) }\n",
    "    predicted_value = sess.run(output,  feed_dict= input_dict)\n",
    "    if i % 100 == 0 :\n",
    "        print(\"cost: \",abs(predicted_value-f(x)))\n",
    "    sess.run(trainer , feed_dict=input_dict)\n",
    "    "
   ]
  },
  {
   "cell_type": "markdown",
   "metadata": {},
   "source": [
    "Aight, now let's test the accuracy of our neural network"
   ]
  },
  {
   "cell_type": "code",
   "execution_count": 28,
   "metadata": {},
   "outputs": [
    {
     "name": "stdout",
     "output_type": "stream",
     "text": [
      "Predicted Value:  [[2530.223]]\n",
      "Real Value:  [[21952]]\n",
      "Predicted Value:  [[2530.223]]\n",
      "Real Value:  [[21952]]\n",
      "Predicted Value:  [[791.09894]]\n",
      "Real Value:  [[512]]\n",
      "Predicted Value:  [[356.31787]]\n",
      "Real Value:  [[27]]\n",
      "Predicted Value:  [[2095.442]]\n",
      "Real Value:  [[12167]]\n"
     ]
    }
   ],
   "source": [
    "for i in range(5):\n",
    "    x= np.random.randint(30, size =(1,1))\n",
    "    input_dict = {input_ :x, target_value_: f(x) }\n",
    "    value = sess.run(output,  feed_dict= input_dict)\n",
    "    print(\"Predicted Value: \", value)\n",
    "    print(\"Real Value: \", f(x))"
   ]
  },
  {
   "cell_type": "markdown",
   "metadata": {},
   "source": [
    "That did not work well, so let's upgrade our neural network with more layers and nodes per layer. Let's go with four hiddenlayers and 500 nodes per layer."
   ]
  },
  {
   "cell_type": "code",
   "execution_count": 30,
   "metadata": {},
   "outputs": [],
   "source": [
    "input_= tf.placeholder(tf.float32, shape=[None,1])\n",
    "target_value_= tf.placeholder(tf.float32, shape=[None,1])\n",
    "hiddenlayer1 = tf.layers.dense(input_,\n",
    "                                units = 500,\n",
    "                                activation = tf.nn.relu)\n",
    "hiddenlayer2 =tf.layers.dense(hiddenlayer1,\n",
    "                                units = 500,\n",
    "                                activation = tf.nn.relu)\n",
    "hiddenlayer3 =tf.layers.dense(hiddenlayer2,\n",
    "                                units = 500,\n",
    "                                activation = tf.nn.relu)\n",
    "hiddenlayer4 =tf.layers.dense(hiddenlayer3,\n",
    "                                units = 500,\n",
    "                                activation = tf.nn.relu)\n",
    "output=tf.layers.dense(hiddenlayer4,\n",
    "                                units = 1,\n",
    "                                activation = None)\n",
    "loss = (output-target_value_)**2\n",
    "trainer = tf.train.AdamOptimizer(learning_rate).minimize(loss)\n",
    "        \n",
    "        "
   ]
  },
  {
   "cell_type": "markdown",
   "metadata": {},
   "source": [
    "While training, we also backpropagate a lot of values at once to give more \"breath\" to the AI while it learns"
   ]
  },
  {
   "cell_type": "code",
   "execution_count": 31,
   "metadata": {},
   "outputs": [
    {
     "name": "stdout",
     "output_type": "stream",
     "text": [
      "cost:  24388.833446264267\n",
      "cost:  7748.060546875\n",
      "cost:  676.1953125\n",
      "cost:  324.763671875\n",
      "cost:  481.802734375\n",
      "cost:  185.283203125\n",
      "cost:  722.427734375\n",
      "cost:  256.671875\n",
      "cost:  567.375\n",
      "cost:  277.470703125\n",
      "cost:  305.478515625\n",
      "cost:  371.111328125\n",
      "cost:  153.501953125\n",
      "cost:  305.080078125\n",
      "cost:  625.595703125\n"
     ]
    }
   ],
   "source": [
    "sess = tf.Session()\n",
    "sess.run(tf.global_variables_initializer())\n",
    "\n",
    "for i in range(1500):\n",
    "    x= np.random.randint(30, size =(500,1))\n",
    "    input_dict = {input_ :x, target_value_: f(x) }\n",
    "    predicted_value = sess.run(output,  feed_dict= input_dict)\n",
    "    if i % 100 == 0 :\n",
    "        print(\"cost: \",np.max(abs(predicted_value-f(x))))\n",
    "    sess.run(trainer , feed_dict=input_dict)\n",
    "    "
   ]
  },
  {
   "cell_type": "code",
   "execution_count": 32,
   "metadata": {},
   "outputs": [
    {
     "name": "stdout",
     "output_type": "stream",
     "text": [
      "Predicted Value:  [[15565.045]]\n",
      "Real Value:  [[15625]]\n",
      "Predicted Value:  [[511.8297]]\n",
      "Real Value:  [[512]]\n",
      "Predicted Value:  [[10592.509]]\n",
      "Real Value:  [[10648]]\n",
      "Predicted Value:  [[4085.357]]\n",
      "Real Value:  [[4096]]\n",
      "Predicted Value:  [[17489.49]]\n",
      "Real Value:  [[17576]]\n"
     ]
    }
   ],
   "source": [
    "for i in range(5):\n",
    "    x= np.random.randint(30, size =(1,1))\n",
    "    input_dict = {input_ :x, target_value_: f(x) }\n",
    "    value = sess.run(output,  feed_dict= input_dict)\n",
    "    print(\"Predicted Value: \", value)\n",
    "    print(\"Real Value: \", f(x))"
   ]
  },
  {
   "cell_type": "markdown",
   "metadata": {},
   "source": [
    "Now that's much closer function approximation. Took a while but we got there."
   ]
  },
  {
   "cell_type": "markdown",
   "metadata": {},
   "source": [
    "But wait, there's more! In this notebook we used simple functions, but well implemented neural networks can be trained to imitate more complex and nonlinear functions, such as face recognition, play video games and much more! It's up to you to decide what you want to do!"
   ]
  },
  {
   "cell_type": "code",
   "execution_count": null,
   "metadata": {},
   "outputs": [],
   "source": []
  },
  {
   "cell_type": "code",
   "execution_count": null,
   "metadata": {},
   "outputs": [],
   "source": []
  }
 ],
 "metadata": {
  "kernelspec": {
   "display_name": "Python 3",
   "language": "python",
   "name": "python3"
  },
  "language_info": {
   "codemirror_mode": {
    "name": "ipython",
    "version": 3
   },
   "file_extension": ".py",
   "mimetype": "text/x-python",
   "name": "python",
   "nbconvert_exporter": "python",
   "pygments_lexer": "ipython3",
   "version": "3.6.3"
  }
 },
 "nbformat": 4,
 "nbformat_minor": 2
}
